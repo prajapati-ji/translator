{
 "cells": [
  {
   "cell_type": "code",
   "execution_count": 5,
   "metadata": {},
   "outputs": [],
   "source": [
    "import tkinter as tk\n",
    "from tkinter import ttk\n",
    "from googletrans import Translator, LANGUAGES\n"
   ]
  },
  {
   "cell_type": "code",
   "execution_count": null,
   "metadata": {},
   "outputs": [],
   "source": [
    " # Import LANGUAGES instead of LANGUAGE\n",
    "\n",
    "root = tk.Tk()\n",
    "root.geometry('1100x320')\n",
    "root.iconbitmap(r'C:\\Users\\adimn\\Downloads\\logo.ico')\n",
    "root['bg'] = 'skyblue'\n",
    "root.title('Language Translator')\n",
    "\n",
    "# Title Label\n",
    "tk.Label(root, text=\"Language Translator\", font=\"Arial 20 bold\", bg='skyblue').pack()\n",
    "tk.Label(root, text=\"Enter text\", font=\"Arial 13 bold\", bg=\"white smoke\").place(x=165, y=90)\n",
    "\n",
    "# Input Text Entry\n",
    "input_text = tk.Entry(root, width=60)\n",
    "input_text.place(x=30, y=130)\n",
    "\n",
    "# Output Label\n",
    "tk.Label(root, text=\"Output\", font=\"Arial 13 bold\", bg=\"white smoke\").place(x=780, y=90)\n",
    "\n",
    "# Output Text Box\n",
    "output_text = tk.Text(root, font=\"arial 10\", height=11, wrap=tk.WORD, padx=5, pady=5, width=50)\n",
    "output_text.place(x=700, y=130)\n",
    "\n",
    "# Language selection dropdown (Combobox)\n",
    "languages = list(LANGUAGES.values())  # Get list of available languages\n",
    "dest_lang = ttk.Combobox(root, values=languages, width=22)\n",
    "dest_lang.place(x=130, y=160)\n",
    "dest_lang.set('choose language')\n",
    "\n",
    "# Translation function\n",
    "def translate():\n",
    "    translator = Translator()\n",
    "    translated = translator.translate(text=input_text.get(), dest=dest_lang.get())\n",
    "    output_text.delete(1.0, tk.END)\n",
    "    output_text.insert(tk.END, translated.text)\n",
    "\n",
    "# Translate button\n",
    "trans_btn = tk.Button(root, text='Translate', font='Arial 12 bold', pady=5, command=translate, bg='orange', activebackground='yellow')\n",
    "trans_btn.place(x=445, y=180)\n",
    "\n",
    "root.mainloop()\n"
   ]
  },
  {
   "cell_type": "code",
   "execution_count": null,
   "metadata": {},
   "outputs": [],
   "source": []
  },
  {
   "cell_type": "code",
   "execution_count": null,
   "metadata": {},
   "outputs": [],
   "source": []
  }
 ],
 "metadata": {
  "kernelspec": {
   "display_name": "py310",
   "language": "python",
   "name": "python3"
  },
  "language_info": {
   "codemirror_mode": {
    "name": "ipython",
    "version": 3
   },
   "file_extension": ".py",
   "mimetype": "text/x-python",
   "name": "python",
   "nbconvert_exporter": "python",
   "pygments_lexer": "ipython3",
   "version": "3.10.14"
  }
 },
 "nbformat": 4,
 "nbformat_minor": 2
}
